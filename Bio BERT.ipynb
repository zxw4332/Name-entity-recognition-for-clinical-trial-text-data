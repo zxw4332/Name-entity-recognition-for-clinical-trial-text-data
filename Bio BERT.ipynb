{
 "cells": [
  {
   "cell_type": "markdown",
   "metadata": {},
   "source": [
    "# Setting up enviroment and read data"
   ]
  },
  {
   "cell_type": "code",
   "execution_count": 1,
   "metadata": {
    "gather": {
     "logged": 1603831521959
    }
   },
   "outputs": [],
   "source": [
    "#Import packages\n",
    "from transformers import AdamW, get_linear_schedule_with_warmup\n",
    "from transformers import AutoTokenizer, AutoModel\n",
    "import torch\n",
    "from torch.utils.data import Dataset, DataLoader\n",
    "import numpy as np\n",
    "import pandas as pd\n",
    "from sklearn.model_selection import train_test_split\n",
    "import tensorflow as tf\n",
    "from tensorflow.keras import initializers\n",
    "from torchcrf import CRF\n",
    "from torch.autograd import Variable\n",
    "import seaborn as sns\n",
    "import matplotlib.pyplot as plt\n",
    "from sklearn.metrics import confusion_matrix, classification_report\n",
    "device = torch.device(\"cuda:0\" if torch.cuda.is_available() else \"cpu\")\n",
    "from torch import nn\n",
    "import torch.nn.functional as F\n",
    "from torch.nn.utils.rnn import pack_padded_sequence, pad_packed_sequence\n",
    "import math\n",
    "from sklearn.utils import shuffle\n",
    "import random"
   ]
  },
  {
   "cell_type": "code",
   "execution_count": 2,
   "metadata": {
    "gather": {
     "logged": 1603831525525
    }
   },
   "outputs": [],
   "source": [
    "#Read raw data\n",
    "def read_data(f_path):\n",
    "    tokenizer_data_preprocessing = AutoTokenizer.from_pretrained('bert-base-uncased')\n",
    "    raw_data = open(f_path).read()\n",
    "    token_instance = []\n",
    "    label_instance = []\n",
    "    raw_token = []\n",
    "    raw_label = []\n",
    "    for content in raw_data.split('\\n'):\n",
    "\n",
    "        if content != '':\n",
    "            token_instance.append(content.split('\\t')[0])\n",
    "            label_instance.append(content.split('\\t')[1])\n",
    "\n",
    "        else:\n",
    "            if len(token_instance) < 60:\n",
    "                if len(token_instance) <=0:\n",
    "                    continue\n",
    "                raw_token.append(token_instance)\n",
    "                raw_label.append(label_instance)\n",
    "                token_instance = []\n",
    "                label_instance = []\n",
    "            else:\n",
    "\n",
    "                pos = [0]\n",
    "                for i, token in enumerate(token_instance):\n",
    "                    if i == len(token_instance) - 1:\n",
    "                        break\n",
    "                    if (token == '.' and token_instance[i+1][0].isupper()) or token == ';' or token == ':' :\n",
    "                        pos.append(i+1)\n",
    "                    if len(token) > 2 and not token[1].isupper() and token[0].isupper() and len(tokenizer_data_preprocessing(token).data['input_ids']) - 2 == 1 and i - pos[-1] > 10:\n",
    "                        pos.append(i)\n",
    "\n",
    "                pos.append(len(token_instance)-1)\n",
    "                for j, p in enumerate(pos):\n",
    "                    if j == len(pos) - 1:\n",
    "                        break\n",
    "                    if pos[j+1] - pos[j] > 60 or pos[j+1] - pos[j] <= 0:\n",
    "                        continue\n",
    "                    raw_token.append(token_instance[pos[j]:pos[j+1]])\n",
    "                    raw_label.append(label_instance[pos[j]:pos[j+1]])\n",
    "                token_instance = []\n",
    "                label_instance = []\n",
    "\n",
    "    label_map = {'O': 0, 'B-Condition': 1, 'I-Condition': 2}\n",
    "    label_map_inver = {0: 'O', 1: 'B-Condition', 2: 'I-Condition'}\n",
    "    \n",
    "    #label_map = {'O': 0, 'B-Con': 1, 'I-Con': 2,'B-Side':3,'I-Side':4}\n",
    "    #label_map_inver = {0: 'O', 1: 'B-Con', 2: 'I-Con', 3:'B-Side',4:'I-Side'}\n",
    "    \n",
    "    raw_label = raw_label[:-1]\n",
    "    raw_token = raw_token[:-1]\n",
    "\n",
    "    return raw_token, raw_label,label_map,label_map_inver\n",
    "        \n",
    "    \n",
    "file_path = 'train_refine.txt'\n",
    "raw_token, raw_label, label_map, label_map_inver = read_data(file_path)"
   ]
  },
  {
   "cell_type": "markdown",
   "metadata": {},
   "source": [
    "\n",
    "# Data overview"
   ]
  },
  {
   "cell_type": "code",
   "execution_count": 3,
   "metadata": {
    "gather": {
     "logged": 1603831529019
    }
   },
   "outputs": [
    {
     "name": "stderr",
     "output_type": "stream",
     "text": [
      "/home/nlp-team-ui-test2/.local/lib/python3.8/site-packages/seaborn/distributions.py:2551: FutureWarning: `distplot` is a deprecated function and will be removed in a future version. Please adapt your code to use either `displot` (a figure-level function with similar flexibility) or `histplot` (an axes-level function for histograms).\n",
      "  warnings.warn(msg, FutureWarning)\n"
     ]
    },
    {
     "data": {
      "text/plain": [
       "Text(0.5, 0, 'Token count')"
      ]
     },
     "execution_count": 3,
     "metadata": {},
     "output_type": "execute_result"
    },
    {
     "data": {
      "image/png": "[encoded data removed]",
      "text/plain": [
       "<Figure size 432x288 with 1 Axes>"
      ]
     },
     "metadata": {
      "needs_background": "light"
     },
     "output_type": "display_data"
    }
   ],
   "source": [
    "#Sentence length distribution\n",
    "token_len = []\n",
    "for sentence in raw_token:\n",
    "    token_len.append(len(sentence))\n",
    "token_len\n",
    "sns.distplot(token_len)\n",
    "plt.xlim([0, 250]);\n",
    "plt.xlabel('Token count')"
   ]
  },
  {
   "cell_type": "code",
   "execution_count": 4,
   "metadata": {
    "gather": {
     "logged": 1603831532475
    }
   },
   "outputs": [
    {
     "data": {
      "text/plain": [
       "<BarContainer object of 3 artists>"
      ]
     },
     "execution_count": 4,
     "metadata": {},
     "output_type": "execute_result"
    },
    {
     "data": {
      "image/png": "[encoded data removed]",
      "text/plain": [
       "<Figure size 432x288 with 1 Axes>"
      ]
     },
     "metadata": {
      "needs_background": "light"
     },
     "output_type": "display_data"
    }
   ],
   "source": [
    "#Label category distirbution\n",
    "def get_sent_label(raw_label):\n",
    "    label_type = {}\n",
    "    sentence_label_ls = []\n",
    "    i = 0\n",
    "    for labels in raw_label:\n",
    "        sentence_label_dic = {}\n",
    "        for label in labels:\n",
    "            if label not in label_type:\n",
    "                label_type[label] = (i, 1)\n",
    "                sentence_label_dic[label] = 1\n",
    "                i = i + 1\n",
    "            else:\n",
    "                label_type[label] = (label_type[label][0], label_type[label][1] + 1)\n",
    "                if label in sentence_label_dic:\n",
    "                    sentence_label_dic[label] = sentence_label_dic[label] + 1\n",
    "                else: \n",
    "                    sentence_label_dic[label] = 1\n",
    "        sentence_label_ls.append(sentence_label_dic)\n",
    "    return sentence_label_ls,label_type\n",
    "\n",
    "sentence_label_ls, label_type = get_sent_label(raw_label)\n",
    "label_num = len(label_type)\n",
    "plt.bar([x for x in label_type.keys()], [y[1] for y in label_type.values()], color = 'green')"
   ]
  },
  {
   "cell_type": "code",
   "execution_count": 5,
   "metadata": {},
   "outputs": [
    {
     "data": {
      "text/plain": [
       "dict_values([(0, 56472), (1, 9349), (2, 8500)])"
      ]
     },
     "execution_count": 5,
     "metadata": {},
     "output_type": "execute_result"
    }
   ],
   "source": [
    "label_type.values()"
   ]
  },
  {
   "cell_type": "code",
   "execution_count": 6,
   "metadata": {
    "gather": {
     "logged": 1603831534650
    }
   },
   "outputs": [
    {
     "name": "stderr",
     "output_type": "stream",
     "text": [
      "/home/nlp-team-ui-test2/.local/lib/python3.8/site-packages/seaborn/distributions.py:2551: FutureWarning: `distplot` is a deprecated function and will be removed in a future version. Please adapt your code to use either `displot` (a figure-level function with similar flexibility) or `histplot` (an axes-level function for histograms).\n",
      "  warnings.warn(msg, FutureWarning)\n"
     ]
    },
    {
     "data": {
      "text/plain": [
       "<AxesSubplot:>"
      ]
     },
     "execution_count": 6,
     "metadata": {},
     "output_type": "execute_result"
    },
    {
     "data": {
      "image/png": "[encoded data removed]",
      "text/plain": [
       "<Figure size 432x288 with 1 Axes>"
      ]
     },
     "metadata": {
      "needs_background": "light"
     },
     "output_type": "display_data"
    }
   ],
   "source": [
    "#Sentence level label distribution\n",
    "labeled_proportion = [1 - x['O']/sum(x.values()) if 'O' in x else 1 for x in sentence_label_ls]\n",
    "sns.distplot(labeled_proportion, hist=True, kde=False, color = 'blue',\n",
    "             hist_kws={'edgecolor':'black'})"
   ]
  },
  {
   "cell_type": "code",
   "execution_count": 7,
   "metadata": {
    "gather": {
     "logged": 1603831536018
    }
   },
   "outputs": [],
   "source": [
    "#Remove sentence that don't have any entity in it\n",
    "def remove_empty(sentence_label_ls):\n",
    "    processed_raw_label = []\n",
    "    processed_raw_token = []\n",
    "    for x,y,z in zip(sentence_label_ls, raw_label, raw_token):\n",
    "        # Remove sentence that has 0 entity\n",
    "        if 'B-Condition' in x or 'I-Condition' in x:# or 'B-Side' in x or 'I-Side' in x:\n",
    "            processed_raw_label.append(y)\n",
    "            processed_raw_token.append(z)\n",
    "    return processed_raw_label, processed_raw_token\n",
    "processed_raw_label, processed_raw_token = remove_empty(sentence_label_ls)"
   ]
  },
  {
   "cell_type": "code",
   "execution_count": 8,
   "metadata": {
    "gather": {
     "logged": 1603831537676
    }
   },
   "outputs": [
    {
     "data": {
      "text/plain": [
       "<AxesSubplot:>"
      ]
     },
     "execution_count": 8,
     "metadata": {},
     "output_type": "execute_result"
    },
    {
     "data": {
      "image/png": "[encoded data removed]",
      "text/plain": [
       "<Figure size 432x288 with 1 Axes>"
      ]
     },
     "metadata": {
      "needs_background": "light"
     },
     "output_type": "display_data"
    }
   ],
   "source": [
    "#Entity distribution\n",
    "entity_len = []\n",
    "last_label = ''\n",
    "i = 0\n",
    "for labels in processed_raw_label:\n",
    "    i = i + 1\n",
    "    for label in labels:\n",
    "        if last_label == '':\n",
    "            last_label = label\n",
    "            continue\n",
    "        elif label == 'O':\n",
    "            if last_label == 'O':\n",
    "                continue\n",
    "            elif last_label == 'B-Con-Single':\n",
    "                entity_len.append(en_len)\n",
    "                last_label = 'O'\n",
    "                en_len = 0\n",
    "            else:\n",
    "                entity_len.append(en_len)\n",
    "                last_label = 'O'\n",
    "                en_len = 0\n",
    "        elif label == 'B-Con-Single':\n",
    "            if last_label == 'O':\n",
    "                last_label = 'B-Con-Single'\n",
    "                en_len = 1\n",
    "            elif last_label == 'B-Con-Single':\n",
    "                entity_len.append(en_len)\n",
    "                en_len = 1\n",
    "            else:\n",
    "                entity_len.append(en_len)\n",
    "                last_label = 'B-Con-Single'\n",
    "                en_len = 1\n",
    "        else:\n",
    "            if last_label == 'O':\n",
    "                continue\n",
    "            elif last_label == 'B-Con-Single':\n",
    "                en_len = en_len + 1\n",
    "                last_label = 'I-Con-Single'\n",
    "            else:\n",
    "                en_len = en_len + 1          \n",
    "\n",
    "sns.distplot(entity_len, kde=False, color = 'blue',\n",
    "             hist_kws={'edgecolor':'black'})"
   ]
  },
  {
   "cell_type": "markdown",
   "metadata": {},
   "source": [
    "# Data preprocessing"
   ]
  },
  {
   "cell_type": "code",
   "execution_count": 9,
   "metadata": {
    "gather": {
     "logged": 1603831541574
    }
   },
   "outputs": [
    {
     "data": {
      "text/html": [
       "<div>\n",
       "<style scoped>\n",
       "    .dataframe tbody tr th:only-of-type {\n",
       "        vertical-align: middle;\n",
       "    }\n",
       "\n",
       "    .dataframe tbody tr th {\n",
       "        vertical-align: top;\n",
       "    }\n",
       "\n",
       "    .dataframe thead th {\n",
       "        text-align: right;\n",
       "    }\n",
       "</style>\n",
       "<table border=\"1\" class=\"dataframe\">\n",
       "  <thead>\n",
       "    <tr style=\"text-align: right;\">\n",
       "      <th></th>\n",
       "      <th>input_token</th>\n",
       "      <th>input_label</th>\n",
       "    </tr>\n",
       "  </thead>\n",
       "  <tbody>\n",
       "    <tr>\n",
       "      <th>0</th>\n",
       "      <td>[Severe, coagulopathy]</td>\n",
       "      <td>[O, B-Condition]</td>\n",
       "    </tr>\n",
       "    <tr>\n",
       "      <th>1</th>\n",
       "      <td>[Cardiovascular, disease, such, as, arrythmia,...</td>\n",
       "      <td>[B-Condition, I-Condition, O, O, B-Condition, ...</td>\n",
       "    </tr>\n",
       "    <tr>\n",
       "      <th>2</th>\n",
       "      <td>[Untreated, hyperthyroidism, ,, or, hypothyroi...</td>\n",
       "      <td>[O, B-Condition, O, O, B-Condition, O]</td>\n",
       "    </tr>\n",
       "    <tr>\n",
       "      <th>3</th>\n",
       "      <td>[2., Healthy, subjects, aged, between, 18, yea...</td>\n",
       "      <td>[O, B-Condition, O, O, O, O, O, O, O, O, O]</td>\n",
       "    </tr>\n",
       "    <tr>\n",
       "      <th>4</th>\n",
       "      <td>[Pregnancy, or, lactation]</td>\n",
       "      <td>[B-Condition, O, B-Condition]</td>\n",
       "    </tr>\n",
       "    <tr>\n",
       "      <th>...</th>\n",
       "      <td>...</td>\n",
       "      <td>...</td>\n",
       "    </tr>\n",
       "    <tr>\n",
       "      <th>5259</th>\n",
       "      <td>[Contraindication, to, anticoagulation, (, i.e...</td>\n",
       "      <td>[B-Condition, O, O, O, O, O, O, O, O, O, O, O,...</td>\n",
       "    </tr>\n",
       "    <tr>\n",
       "      <th>5260</th>\n",
       "      <td>[Pulmonary, disease]</td>\n",
       "      <td>[B-Condition, I-Condition]</td>\n",
       "    </tr>\n",
       "    <tr>\n",
       "      <th>5261</th>\n",
       "      <td>[Has, had, prior, systemic, therapy, for, HCC,...</td>\n",
       "      <td>[O, O, O, O, O, O, B-Condition, O, O, O, O, O,...</td>\n",
       "    </tr>\n",
       "    <tr>\n",
       "      <th>5262</th>\n",
       "      <td>[Pregnant]</td>\n",
       "      <td>[B-Condition]</td>\n",
       "    </tr>\n",
       "    <tr>\n",
       "      <th>5263</th>\n",
       "      <td>[•, Inflammatory, back, pain]</td>\n",
       "      <td>[O, B-Condition, I-Condition, I-Condition]</td>\n",
       "    </tr>\n",
       "  </tbody>\n",
       "</table>\n",
       "<p>5264 rows × 2 columns</p>\n",
       "</div>"
      ],
      "text/plain": [
       "                                            input_token  \\\n",
       "0                                [Severe, coagulopathy]   \n",
       "1     [Cardiovascular, disease, such, as, arrythmia,...   \n",
       "2     [Untreated, hyperthyroidism, ,, or, hypothyroi...   \n",
       "3     [2., Healthy, subjects, aged, between, 18, yea...   \n",
       "4                            [Pregnancy, or, lactation]   \n",
       "...                                                 ...   \n",
       "5259  [Contraindication, to, anticoagulation, (, i.e...   \n",
       "5260                               [Pulmonary, disease]   \n",
       "5261  [Has, had, prior, systemic, therapy, for, HCC,...   \n",
       "5262                                         [Pregnant]   \n",
       "5263                      [•, Inflammatory, back, pain]   \n",
       "\n",
       "                                            input_label  \n",
       "0                                      [O, B-Condition]  \n",
       "1     [B-Condition, I-Condition, O, O, B-Condition, ...  \n",
       "2                [O, B-Condition, O, O, B-Condition, O]  \n",
       "3           [O, B-Condition, O, O, O, O, O, O, O, O, O]  \n",
       "4                         [B-Condition, O, B-Condition]  \n",
       "...                                                 ...  \n",
       "5259  [B-Condition, O, O, O, O, O, O, O, O, O, O, O,...  \n",
       "5260                         [B-Condition, I-Condition]  \n",
       "5261  [O, O, O, O, O, O, B-Condition, O, O, O, O, O,...  \n",
       "5262                                      [B-Condition]  \n",
       "5263         [O, B-Condition, I-Condition, I-Condition]  \n",
       "\n",
       "[5264 rows x 2 columns]"
      ]
     },
     "execution_count": 9,
     "metadata": {},
     "output_type": "execute_result"
    }
   ],
   "source": [
    "#Combine raw data to dataframe\n",
    "All_data = pd.DataFrame()\n",
    "All_data['input_token'] = processed_raw_token\n",
    "All_data['input_label'] = processed_raw_label\n",
    "All_data"
   ]
  },
  {
   "cell_type": "code",
   "execution_count": 10,
   "metadata": {},
   "outputs": [],
   "source": [
    "def make_dense(All_data):\n",
    "    keep_sentence = []\n",
    "    keep_label = []\n",
    "    for (i,x) in enumerate(All_data['input_label']):\n",
    "\n",
    "        o_num = 0\n",
    "        b_num = 0\n",
    "        i_num = 0\n",
    "\n",
    "        for y in x:\n",
    "            if y == 'O':\n",
    "                o_num = o_num +1\n",
    "            elif y == 'B-Condition' or y == 'B-Side':\n",
    "                b_num = b_num + 1\n",
    "            elif y =='I-Condition' or y == 'I-Side':\n",
    "                i_num = i_num + 1\n",
    "\n",
    "        if (b_num+i_num)/(o_num+b_num+i_num) > 0.05:\n",
    "            keep_sentence.append(All_data['input_token'][i])\n",
    "            keep_label.append(All_data['input_label'][i])\n",
    "\n",
    "    return keep_sentence, keep_label\n",
    "keep_sentence, keep_label = make_dense(All_data)\n",
    "All_data = pd.DataFrame()\n",
    "All_data['input_token'] = keep_sentence\n",
    "All_data['input_label'] = keep_label"
   ]
  },
  {
   "cell_type": "code",
   "execution_count": 11,
   "metadata": {},
   "outputs": [
    {
     "data": {
      "text/html": [
       "<div>\n",
       "<style scoped>\n",
       "    .dataframe tbody tr th:only-of-type {\n",
       "        vertical-align: middle;\n",
       "    }\n",
       "\n",
       "    .dataframe tbody tr th {\n",
       "        vertical-align: top;\n",
       "    }\n",
       "\n",
       "    .dataframe thead th {\n",
       "        text-align: right;\n",
       "    }\n",
       "</style>\n",
       "<table border=\"1\" class=\"dataframe\">\n",
       "  <thead>\n",
       "    <tr style=\"text-align: right;\">\n",
       "      <th></th>\n",
       "      <th>input_token</th>\n",
       "      <th>input_label</th>\n",
       "    </tr>\n",
       "  </thead>\n",
       "  <tbody>\n",
       "    <tr>\n",
       "      <th>0</th>\n",
       "      <td>[Severe, coagulopathy]</td>\n",
       "      <td>[O, B-Condition]</td>\n",
       "    </tr>\n",
       "    <tr>\n",
       "      <th>1</th>\n",
       "      <td>[Cardiovascular, disease, such, as, arrythmia,...</td>\n",
       "      <td>[B-Condition, I-Condition, O, O, B-Condition, ...</td>\n",
       "    </tr>\n",
       "    <tr>\n",
       "      <th>2</th>\n",
       "      <td>[Untreated, hyperthyroidism, ,, or, hypothyroi...</td>\n",
       "      <td>[O, B-Condition, O, O, B-Condition, O]</td>\n",
       "    </tr>\n",
       "    <tr>\n",
       "      <th>3</th>\n",
       "      <td>[2., Healthy, subjects, aged, between, 18, yea...</td>\n",
       "      <td>[O, B-Condition, O, O, O, O, O, O, O, O, O]</td>\n",
       "    </tr>\n",
       "    <tr>\n",
       "      <th>4</th>\n",
       "      <td>[Pregnancy, or, lactation]</td>\n",
       "      <td>[B-Condition, O, B-Condition]</td>\n",
       "    </tr>\n",
       "    <tr>\n",
       "      <th>...</th>\n",
       "      <td>...</td>\n",
       "      <td>...</td>\n",
       "    </tr>\n",
       "    <tr>\n",
       "      <th>5066</th>\n",
       "      <td>[Person, has, a, history, of, chronic, skin, b...</td>\n",
       "      <td>[O, O, O, O, O, O, B-Condition, I-Condition, O...</td>\n",
       "    </tr>\n",
       "    <tr>\n",
       "      <th>5067</th>\n",
       "      <td>[Contraindication, to, anticoagulation, (, i.e...</td>\n",
       "      <td>[B-Condition, O, O, O, O, O, O, O, O, O, O, O,...</td>\n",
       "    </tr>\n",
       "    <tr>\n",
       "      <th>5068</th>\n",
       "      <td>[Pulmonary, disease]</td>\n",
       "      <td>[B-Condition, I-Condition]</td>\n",
       "    </tr>\n",
       "    <tr>\n",
       "      <th>5069</th>\n",
       "      <td>[Pregnant]</td>\n",
       "      <td>[B-Condition]</td>\n",
       "    </tr>\n",
       "    <tr>\n",
       "      <th>5070</th>\n",
       "      <td>[•, Inflammatory, back, pain]</td>\n",
       "      <td>[O, B-Condition, I-Condition, I-Condition]</td>\n",
       "    </tr>\n",
       "  </tbody>\n",
       "</table>\n",
       "<p>5071 rows × 2 columns</p>\n",
       "</div>"
      ],
      "text/plain": [
       "                                            input_token  \\\n",
       "0                                [Severe, coagulopathy]   \n",
       "1     [Cardiovascular, disease, such, as, arrythmia,...   \n",
       "2     [Untreated, hyperthyroidism, ,, or, hypothyroi...   \n",
       "3     [2., Healthy, subjects, aged, between, 18, yea...   \n",
       "4                            [Pregnancy, or, lactation]   \n",
       "...                                                 ...   \n",
       "5066  [Person, has, a, history, of, chronic, skin, b...   \n",
       "5067  [Contraindication, to, anticoagulation, (, i.e...   \n",
       "5068                               [Pulmonary, disease]   \n",
       "5069                                         [Pregnant]   \n",
       "5070                      [•, Inflammatory, back, pain]   \n",
       "\n",
       "                                            input_label  \n",
       "0                                      [O, B-Condition]  \n",
       "1     [B-Condition, I-Condition, O, O, B-Condition, ...  \n",
       "2                [O, B-Condition, O, O, B-Condition, O]  \n",
       "3           [O, B-Condition, O, O, O, O, O, O, O, O, O]  \n",
       "4                         [B-Condition, O, B-Condition]  \n",
       "...                                                 ...  \n",
       "5066  [O, O, O, O, O, O, B-Condition, I-Condition, O...  \n",
       "5067  [B-Condition, O, O, O, O, O, O, O, O, O, O, O,...  \n",
       "5068                         [B-Condition, I-Condition]  \n",
       "5069                                      [B-Condition]  \n",
       "5070         [O, B-Condition, I-Condition, I-Condition]  \n",
       "\n",
       "[5071 rows x 2 columns]"
      ]
     },
     "execution_count": 11,
     "metadata": {},
     "output_type": "execute_result"
    }
   ],
   "source": [
    "All_data"
   ]
  },
  {
   "cell_type": "code",
   "execution_count": null,
   "metadata": {},
   "outputs": [],
   "source": []
  },
  {
   "cell_type": "code",
   "execution_count": 12,
   "metadata": {
    "gather": {
     "logged": 1603831559668
    }
   },
   "outputs": [],
   "source": [
    "#Preprocessing token using BERT tokenizer\n",
    "def convert_single_example(tokenizer, max_len, input_tokens, input_labels):\n",
    "    \n",
    "    pre_labels = ['O']\n",
    "    pre_tokens = ['[CLS]']\n",
    "    mask = [True]\n",
    "    token_embed = [[0]*max_len]\n",
    "    start = 1\n",
    "    for i, word in enumerate(input_tokens):\n",
    "        token = tokenizer.tokenize(word)\n",
    "        if len(token) == 0:\n",
    "            token = [0]\n",
    "        pre_tokens.extend(token)\n",
    "        pre_lable = input_labels[i]\n",
    "        p_num = 0 \n",
    "        \n",
    "        assert len(token) != 0,print(i)\n",
    "        \n",
    "        for _ in range(len(token)):\n",
    "            \n",
    "            p_num = p_num + 1\n",
    "            \n",
    "            pre_labels.append(pre_lable)\n",
    "            mask.append(True)\n",
    "        embed = [0]*max_len\n",
    "        embed[start: start + p_num] =[1] + [0]*(p_num - 1) \n",
    "        token_embed.append(embed)\n",
    "        start = start + p_num\n",
    "        \n",
    "    pre_tokens.append('[SEP]')    \n",
    "    pre_labels.append('O')\n",
    "    mask.append(False)\n",
    "    token_embed.append([0]*max_len)\n",
    "    \n",
    "    assert len(pre_labels) == len(mask)\n",
    "    #assert len(pre_labels) == len(token_embed)\n",
    "    \n",
    "    input_ids = tokenizer.convert_tokens_to_ids(pre_tokens)\n",
    "    \n",
    "    while len(input_ids) < max_len:\n",
    "        input_ids.append(0)\n",
    "    \n",
    "    \n",
    "    labels_id = []        \n",
    "    for i, label in enumerate(pre_labels):\n",
    "        labels_id.append(label_map[label])\n",
    "    while len(labels_id) < max_len:\n",
    "        labels_id.append(0)\n",
    "        mask.append(False)\n",
    "        \n",
    "    while len(token_embed) < max_len:\n",
    "        token_embed.append([0]*max_len)\n",
    "        \n",
    "\n",
    "    \n",
    "    assert len(input_ids) == max_len\n",
    "    assert len(labels_id) == max_len\n",
    "    assert len(mask) == max_len\n",
    "    assert len(token_embed) == max_len\n",
    "    \n",
    "    return {'input_ids': input_ids, 'labels_id': labels_id, 'mask': mask, 'token_embed': token_embed}"
   ]
  },
  {
   "cell_type": "code",
   "execution_count": 13,
   "metadata": {},
   "outputs": [],
   "source": [
    "def convert_to_df(df, MAX_LEN, tokenizer):\n",
    "    new_df = pd.DataFrame()\n",
    "    processed_token_id = []\n",
    "    processed_label_id = []\n",
    "    mask = []\n",
    "    token_embed = []\n",
    "    \n",
    "    for i in range(len(df)):\n",
    "        result_dic = convert_single_example(tokenizer, MAX_LEN, df['input_token'][i], df['input_label'][i])\n",
    "        processed_token_id.append(result_dic['input_ids'])\n",
    "        processed_label_id.append(result_dic['labels_id'])\n",
    "        mask.append(result_dic['mask'])\n",
    "        token_embed.append(result_dic['token_embed'])\n",
    "        \n",
    "    new_df['token_id'] = processed_token_id\n",
    "    new_df['token_embed'] = token_embed   \n",
    "    new_df['label_id'] = processed_label_id\n",
    "    new_df['mask'] = mask\n",
    "    new_df['index'] = list(df.index) \n",
    "    \n",
    "    return new_df"
   ]
  },
  {
   "cell_type": "code",
   "execution_count": 14,
   "metadata": {},
   "outputs": [],
   "source": [
    "#Load BERT tokenizer\n",
    "MAX_LEN = 128\n",
    "tokenizer = AutoTokenizer.from_pretrained('dmis-lab/biobert-v1.1')\n",
    "processed_df = convert_to_df(All_data, MAX_LEN, tokenizer)"
   ]
  },
  {
   "cell_type": "code",
   "execution_count": 15,
   "metadata": {},
   "outputs": [],
   "source": [
    "processed_df = shuffle(processed_df)\n",
    "cross_val = {}\n",
    "block_size = int(processed_df.shape[0]/16)\n",
    "for i in range(16):\n",
    "    if i == 15:\n",
    "        cross_val[i] = processed_df[15*block_size:]\n",
    "    else:\n",
    "        cross_val[i] = processed_df[i*block_size: (i+1)*block_size]"
   ]
  },
  {
   "cell_type": "code",
   "execution_count": 16,
   "metadata": {
    "gather": {
     "logged": 1603831592558
    }
   },
   "outputs": [],
   "source": [
    "#Create data loader for training, valadating and testing\n",
    "class ChiaDataset(Dataset):\n",
    "    def __init__(self, token_ls,label_ls, mask_ls, token_embed_ls,index):\n",
    "        self.input_ids = token_ls\n",
    "        self.label_ids = label_ls\n",
    "        self.mask = mask_ls\n",
    "        self.token_embed = token_embed_ls\n",
    "        self.index = index\n",
    "  \n",
    "    def __len__(self):\n",
    "        return len(self.label_ids)\n",
    "  \n",
    "    def __getitem__(self, item):\n",
    "        token_ids = self.input_ids[item]\n",
    "        label_ids = self.label_ids[item]\n",
    "        mask_ids = self.mask[item]\n",
    "        token_ebd = self.token_embed[item]\n",
    "        index = self.index[item]\n",
    "        \n",
    "        return {\n",
    "      'label_ids': torch.tensor(label_ids, dtype=torch.long),\n",
    "      'input_ids': torch.tensor(token_ids),\n",
    "      'mask': torch.tensor(mask_ids),\n",
    "      'token_embed': torch.tensor(token_ebd),\n",
    "      'index':torch.tensor(index)\n",
    "    }"
   ]
  },
  {
   "cell_type": "markdown",
   "metadata": {},
   "source": [
    "# Create  model"
   ]
  },
  {
   "cell_type": "code",
   "execution_count": 17,
   "metadata": {
    "gather": {
     "logged": 1603833658724
    }
   },
   "outputs": [],
   "source": [
    "class CRFmodel(nn.Module):\n",
    "    def __init__(self, embedding_dim, tag_size, lm):\n",
    "        super().__init__()\n",
    "        \n",
    "        self.fc1 = nn.Linear(768, tag_size)\n",
    "        self.tanh = nn.Tanh()\n",
    "        self.crf = CRF(tag_size, batch_first = True)\n",
    "        self.lm = lm\n",
    "        self.drop = nn.Dropout(0.7)\n",
    "        \n",
    "        \n",
    "    def forward(self, input_ids, labels, mask):\n",
    "\n",
    "        embedding = self.lm(input_ids)[0]\n",
    "        \n",
    "        drop = self.drop(embedding)\n",
    "        score = self.fc1(drop)\n",
    "    \n",
    "        \n",
    "        z = self.tanh(score)    \n",
    "        \n",
    "        labels = labels[: ,1: ]\n",
    "        mask = mask[: ,1: ]  \n",
    "        z = z[: ,1:,:]\n",
    "        x = self.crf(z, labels, mask = mask)\n",
    "\n",
    "        return x\n",
    "\n",
    "    def pred(self, input_ids, mask, token_embed):\n",
    "\n",
    "        embedding = self.lm(input_ids)[0]     \n",
    "\n",
    "        drop = self.drop(embedding)\n",
    "        score = self.fc1(drop)\n",
    "        \n",
    "        z = self.tanh(score)         \n",
    "        z = z[: ,1:,:]\n",
    "        mask_ = mask[: ,1: ]\n",
    "        x = self.crf.decode(z, mask = mask_)\n",
    "        y = [[0] + u + [0]*(127-len(u)) for u in x]\n",
    "        pred_mat = torch.tensor(y)\n",
    "        label_trans = pred_mat.to(device)\n",
    "        result = torch.matmul(token_embed.float(),label_trans.view(-1,128,1).float()).view(-1,128)\n",
    "        result_ls = []\n",
    "        mask_trans = mask.to(device)\n",
    "        mask_pred = torch.matmul(token_embed.float(),mask_trans.view(-1,128,1).float()).view(-1,128).bool()\n",
    "        for i in range(result.shape[0]):\n",
    "            temp_ls = result[i][mask_pred[i]]\n",
    "            result_ls.append(temp_ls.tolist())\n",
    "        \n",
    "        return result_ls"
   ]
  },
  {
   "cell_type": "markdown",
   "metadata": {},
   "source": [
    "# Train model"
   ]
  },
  {
   "cell_type": "code",
   "execution_count": 18,
   "metadata": {
    "gather": {
     "logged": 1603833915940
    }
   },
   "outputs": [],
   "source": [
    "def train(model,data_loader, optimizer, device):\n",
    "    losses = []\n",
    "    i = 0\n",
    "    \n",
    "    for d in data_loader:\n",
    "        input_ids = d['input_ids'].to(device)\n",
    "        label_ids = d['label_ids'].to(device)\n",
    "        mask = d['mask'].to(device)\n",
    "        token_embed = d['token_embed'].to(device)\n",
    "\n",
    "        loss = - model(input_ids,label_ids, mask)\n",
    "\n",
    "        losses.append(loss.item())\n",
    "\n",
    "        optimizer.zero_grad()\n",
    "        loss.sum().backward()\n",
    "        optimizer.step()\n",
    "        scheduler.step()\n",
    "        \n",
    "    return np.mean(losses)"
   ]
  },
  {
   "cell_type": "code",
   "execution_count": 19,
   "metadata": {},
   "outputs": [],
   "source": [
    "def prediction(model, data_loader, output_dir, cross_val_num,df):\n",
    "    preds = []\n",
    "    f = open(output_dir, 'w')\n",
    "    f1 = open('result/' + 'cross_val_num{}'.format(cross_val_num) + output_dir, 'w')\n",
    "    for d in data_loader:\n",
    "        input_ids = d['input_ids'].to(device)\n",
    "        label_ids_split = d['label_ids'].to(device)\n",
    "        mask = d['mask'].to(device)\n",
    "        token_embed = d['token_embed'].to(device)\n",
    "        id_list = d['index']\n",
    "        label_trans = label_ids_split.to(device)\n",
    "        \n",
    "        label_ids = torch.matmul(token_embed.float(),label_trans.view(-1,128,1).float()).view(-1,128)\n",
    "        mask_trans = mask.to(device)\n",
    "        mask_pred = torch.matmul(token_embed.float(),mask_trans.view(-1,128,1).float()).view(-1,128).bool()\n",
    "        pred = model.pred(input_ids,mask, token_embed)\n",
    "        assert type(pred) == list, 'not a list'\n",
    "        #write prediction result\n",
    "\n",
    "        for i, _ in enumerate(pred):\n",
    "            \n",
    "            label_line = []\n",
    "            pred_line = []\n",
    "            word_line = df['input_token'][int(id_list[i])]\n",
    "            label_line_ = list(np.array(label_ids[i][1:][mask_pred[i][1:].cpu()].cpu()))\n",
    "\n",
    "            for j in range(len(label_line_)):\n",
    "                f.write(word_line[j] + ' ' + label_map_inver[label_line_[j]] + ' ' + label_map_inver[_[j]])\n",
    "                f.write('\\n')\n",
    "                \n",
    "            label_line = []\n",
    "            pred_line = []\n",
    "\n",
    "            for pred_label in _:\n",
    "                pred_line.append(label_map_inver[pred_label])\n",
    "            \n",
    "            for x in label_line_:\n",
    "                label_line.append(label_map_inver[x])\n",
    "\n",
    "            assert len(label_line) == len(pred_line)\n",
    "            \n",
    "            f1.write('\\t'.join(word_line) + '\\n' )\n",
    "            f1.write('\\t'.join(label_line) + '\\n')\n",
    "            f1.write('\\t'.join(pred_line) + '\\n')\n",
    "            f1.write('\\n')\n",
    "    \n",
    "    return 0"
   ]
  },
  {
   "cell_type": "code",
   "execution_count": 20,
   "metadata": {
    "gather": {
     "logged": 1603729199120
    },
    "scrolled": true
   },
   "outputs": [],
   "source": [
    "#Start training\n",
    "def train_epoch(crfmodel, train_data_loader,eval_data_loader,test_data_loader, optimizer, device,df,test_df):\n",
    "    \n",
    "    weight_score = -math.inf\n",
    "\n",
    "    for epoch in range(EPOCHS):\n",
    "\n",
    "        print(f'Epoch {epoch + 1}/{EPOCHS}')\n",
    "        print('-' * 10)\n",
    "\n",
    "        train_loss = train(crfmodel, train_data_loader, \n",
    "                                      optimizer, device)\n",
    "\n",
    "        \n",
    "        prediction(crfmodel, eval_data_loader, 'bert-pubmed.txt', cross_val_num,df) \n",
    "        result = !perl conlleval.pl < 'bert-pubmed.txt'\n",
    "        precision = result[1].split(';')[1].split(':')[1].strip()\n",
    "        recall = result[1].split(';')[2].split(':')[1].strip()\n",
    "        F1_score = result[1].split(';')[3].split(':')[1].strip()        \n",
    "        print(result)\n",
    "        \n",
    "        prediction(crfmodel, test_data_loader, 'covid_result.txt', cross_val_num,test_df) \n",
    "        result = !perl conlleval.pl < 'covid_result.txt'\n",
    "        precision = result[1].split(';')[1].split(':')[1].strip()\n",
    "        recall = result[1].split(';')[2].split(':')[1].strip()\n",
    "        F1_score_test = result[1].split(';')[3].split(':')[1].strip()        \n",
    "        print(result)\n",
    "\n",
    "        if float(F1_score) > weight_score:\n",
    "            torch.save(crfmodel.state_dict(), 'crfmodel.bin')\n",
    "            weight_score = float(F1_score)"
   ]
  },
  {
   "cell_type": "code",
   "execution_count": 21,
   "metadata": {},
   "outputs": [],
   "source": [
    "def get_test(file_path):\n",
    "    raw_token, raw_label, label_map, label_map_inver = read_data(file_path)\n",
    "\n",
    "    sentence_label_ls, label_type = get_sent_label(raw_label)\n",
    "\n",
    "    processed_raw_label, processed_raw_token = remove_empty(sentence_label_ls)\n",
    "\n",
    "    test_data = pd.DataFrame()\n",
    "    test_data['input_token'] = raw_token\n",
    "    test_data['input_label'] = raw_label\n",
    "    test_data\n",
    "\n",
    "    keep_sentence, keep_label = make_dense(test_data)\n",
    "    test_data = pd.DataFrame()\n",
    "    test_data['input_token'] = keep_sentence\n",
    "    test_data['input_label'] = keep_label\n",
    "\n",
    "    tokenizer = AutoTokenizer.from_pretrained('monologg/biobert_v1.1_pubmed')\n",
    "    test_data_convert = convert_to_df(test_data, MAX_LEN, tokenizer)\n",
    "    return test_data_convert,test_data"
   ]
  },
  {
   "cell_type": "code",
   "execution_count": 22,
   "metadata": {},
   "outputs": [
    {
     "name": "stdout",
     "output_type": "stream",
     "text": [
      "Successfully split data\n",
      "Epoch 1/5\n",
      "----------\n",
      "['processed 4121 tokens with 611 phrases; found: 629 phrases; correct: 506.', 'accuracy:  93.57%; precision:  80.45%; recall:  82.82%; FB1:  81.61', '        Condition: precision:  80.45%; recall:  82.82%; FB1:  81.61  629']\n",
      "['processed 2812 tokens with 383 phrases; found: 448 phrases; correct: 320.', 'accuracy:  92.00%; precision:  71.43%; recall:  83.55%; FB1:  77.02', '        Condition: precision:  71.43%; recall:  83.55%; FB1:  77.02  448']\n",
      "Epoch 2/5\n",
      "----------\n",
      "['processed 4121 tokens with 611 phrases; found: 653 phrases; correct: 507.', 'accuracy:  93.59%; precision:  77.64%; recall:  82.98%; FB1:  80.22', '        Condition: precision:  77.64%; recall:  82.98%; FB1:  80.22  653']\n",
      "['processed 2812 tokens with 383 phrases; found: 455 phrases; correct: 320.', 'accuracy:  91.82%; precision:  70.33%; recall:  83.55%; FB1:  76.37', '        Condition: precision:  70.33%; recall:  83.55%; FB1:  76.37  455']\n",
      "Epoch 3/5\n",
      "----------\n",
      "['processed 4121 tokens with 611 phrases; found: 630 phrases; correct: 515.', 'accuracy:  94.15%; precision:  81.75%; recall:  84.29%; FB1:  83.00', '        Condition: precision:  81.75%; recall:  84.29%; FB1:  83.00  630']\n",
      "['processed 2812 tokens with 383 phrases; found: 433 phrases; correct: 309.', 'accuracy:  91.89%; precision:  71.36%; recall:  80.68%; FB1:  75.74', '        Condition: precision:  71.36%; recall:  80.68%; FB1:  75.74  433']\n",
      "Epoch 4/5\n",
      "----------\n",
      "['processed 4121 tokens with 611 phrases; found: 636 phrases; correct: 511.', 'accuracy:  93.79%; precision:  80.35%; recall:  83.63%; FB1:  81.96', '        Condition: precision:  80.35%; recall:  83.63%; FB1:  81.96  636']\n",
      "['processed 2812 tokens with 383 phrases; found: 439 phrases; correct: 311.', 'accuracy:  91.29%; precision:  70.84%; recall:  81.20%; FB1:  75.67', '        Condition: precision:  70.84%; recall:  81.20%; FB1:  75.67  439']\n",
      "Epoch 5/5\n",
      "----------\n",
      "['processed 4121 tokens with 611 phrases; found: 635 phrases; correct: 513.', 'accuracy:  93.91%; precision:  80.79%; recall:  83.96%; FB1:  82.34', '        Condition: precision:  80.79%; recall:  83.96%; FB1:  82.34  635']\n",
      "['processed 2812 tokens with 383 phrases; found: 441 phrases; correct: 313.', 'accuracy:  91.39%; precision:  70.98%; recall:  81.72%; FB1:  75.97', '        Condition: precision:  70.98%; recall:  81.72%; FB1:  75.97  441']\n",
      "Successfully split data\n",
      "Epoch 1/5\n",
      "----------\n",
      "['processed 4080 tokens with 581 phrases; found: 607 phrases; correct: 475.', 'accuracy:  93.33%; precision:  78.25%; recall:  81.76%; FB1:  79.97', '        Condition: precision:  78.25%; recall:  81.76%; FB1:  79.97  607']\n",
      "['processed 2812 tokens with 383 phrases; found: 448 phrases; correct: 313.', 'accuracy:  91.75%; precision:  69.87%; recall:  81.72%; FB1:  75.33', '        Condition: precision:  69.87%; recall:  81.72%; FB1:  75.33  448']\n",
      "Epoch 2/5\n",
      "----------\n",
      "['processed 4080 tokens with 581 phrases; found: 599 phrases; correct: 481.', 'accuracy:  93.41%; precision:  80.30%; recall:  82.79%; FB1:  81.53', '        Condition: precision:  80.30%; recall:  82.79%; FB1:  81.53  599']\n",
      "['processed 2812 tokens with 383 phrases; found: 442 phrases; correct: 314.', 'accuracy:  91.93%; precision:  71.04%; recall:  81.98%; FB1:  76.12', '        Condition: precision:  71.04%; recall:  81.98%; FB1:  76.12  442']\n",
      "Epoch 3/5\n",
      "----------\n",
      "['processed 4080 tokens with 581 phrases; found: 615 phrases; correct: 483.', 'accuracy:  92.84%; precision:  78.54%; recall:  83.13%; FB1:  80.77', '        Condition: precision:  78.54%; recall:  83.13%; FB1:  80.77  615']\n",
      "['processed 2812 tokens with 383 phrases; found: 454 phrases; correct: 321.', 'accuracy:  92.11%; precision:  70.70%; recall:  83.81%; FB1:  76.70', '        Condition: precision:  70.70%; recall:  83.81%; FB1:  76.70  454']\n",
      "Epoch 4/5\n",
      "----------\n",
      "['processed 4080 tokens with 581 phrases; found: 637 phrases; correct: 487.', 'accuracy:  92.25%; precision:  76.45%; recall:  83.82%; FB1:  79.97', '        Condition: precision:  76.45%; recall:  83.82%; FB1:  79.97  637']\n",
      "['processed 2812 tokens with 383 phrases; found: 449 phrases; correct: 310.', 'accuracy:  91.18%; precision:  69.04%; recall:  80.94%; FB1:  74.52', '        Condition: precision:  69.04%; recall:  80.94%; FB1:  74.52  449']\n",
      "Epoch 5/5\n",
      "----------\n",
      "['processed 4080 tokens with 581 phrases; found: 617 phrases; correct: 483.', 'accuracy:  92.70%; precision:  78.28%; recall:  83.13%; FB1:  80.63', '        Condition: precision:  78.28%; recall:  83.13%; FB1:  80.63  617']\n",
      "['processed 2812 tokens with 383 phrases; found: 442 phrases; correct: 312.', 'accuracy:  91.29%; precision:  70.59%; recall:  81.46%; FB1:  75.64', '        Condition: precision:  70.59%; recall:  81.46%; FB1:  75.64  442']\n",
      "Successfully split data\n",
      "Epoch 1/5\n",
      "----------\n",
      "['processed 4089 tokens with 623 phrases; found: 652 phrases; correct: 526.', 'accuracy:  93.96%; precision:  80.67%; recall:  84.43%; FB1:  82.51', '        Condition: precision:  80.67%; recall:  84.43%; FB1:  82.51  652']\n",
      "['processed 2812 tokens with 383 phrases; found: 447 phrases; correct: 315.', 'accuracy:  91.93%; precision:  70.47%; recall:  82.25%; FB1:  75.90', '        Condition: precision:  70.47%; recall:  82.25%; FB1:  75.90  447']\n",
      "Epoch 2/5\n",
      "----------\n",
      "['processed 4089 tokens with 623 phrases; found: 626 phrases; correct: 527.', 'accuracy:  94.38%; precision:  84.19%; recall:  84.59%; FB1:  84.39', '        Condition: precision:  84.19%; recall:  84.59%; FB1:  84.39  626']\n",
      "['processed 2812 tokens with 383 phrases; found: 434 phrases; correct: 315.', 'accuracy:  92.28%; precision:  72.58%; recall:  82.25%; FB1:  77.11', '        Condition: precision:  72.58%; recall:  82.25%; FB1:  77.11  434']\n",
      "Epoch 3/5\n",
      "----------\n",
      "['processed 4089 tokens with 623 phrases; found: 645 phrases; correct: 537.', 'accuracy:  94.18%; precision:  83.26%; recall:  86.20%; FB1:  84.70', '        Condition: precision:  83.26%; recall:  86.20%; FB1:  84.70  645']\n",
      "['processed 2812 tokens with 383 phrases; found: 448 phrases; correct: 315.', 'accuracy:  91.86%; precision:  70.31%; recall:  82.25%; FB1:  75.81', '        Condition: precision:  70.31%; recall:  82.25%; FB1:  75.81  448']\n",
      "Epoch 4/5\n",
      "----------\n",
      "['processed 4089 tokens with 623 phrases; found: 643 phrases; correct: 543.', 'accuracy:  94.84%; precision:  84.45%; recall:  87.16%; FB1:  85.78', '        Condition: precision:  84.45%; recall:  87.16%; FB1:  85.78  643']\n",
      "['processed 2812 tokens with 383 phrases; found: 455 phrases; correct: 320.', 'accuracy:  92.25%; precision:  70.33%; recall:  83.55%; FB1:  76.37', '        Condition: precision:  70.33%; recall:  83.55%; FB1:  76.37  455']\n",
      "Epoch 5/5\n",
      "----------\n",
      "['processed 4089 tokens with 623 phrases; found: 626 phrases; correct: 537.', 'accuracy:  94.79%; precision:  85.78%; recall:  86.20%; FB1:  85.99', '        Condition: precision:  85.78%; recall:  86.20%; FB1:  85.99  626']\n",
      "['processed 2812 tokens with 383 phrases; found: 441 phrases; correct: 317.', 'accuracy:  91.89%; precision:  71.88%; recall:  82.77%; FB1:  76.94', '        Condition: precision:  71.88%; recall:  82.77%; FB1:  76.94  441']\n",
      "Successfully split data\n",
      "Epoch 1/5\n",
      "----------\n",
      "['processed 4080 tokens with 581 phrases; found: 612 phrases; correct: 476.', 'accuracy:  93.33%; precision:  77.78%; recall:  81.93%; FB1:  79.80', '        Condition: precision:  77.78%; recall:  81.93%; FB1:  79.80  612']\n",
      "['processed 2812 tokens with 383 phrases; found: 444 phrases; correct: 316.', 'accuracy:  91.93%; precision:  71.17%; recall:  82.51%; FB1:  76.42', '        Condition: precision:  71.17%; recall:  82.51%; FB1:  76.42  444']\n",
      "Epoch 2/5\n",
      "----------\n",
      "['processed 4080 tokens with 581 phrases; found: 603 phrases; correct: 475.', 'accuracy:  93.26%; precision:  78.77%; recall:  81.76%; FB1:  80.24', '        Condition: precision:  78.77%; recall:  81.76%; FB1:  80.24  603']\n",
      "['processed 2812 tokens with 383 phrases; found: 439 phrases; correct: 324.', 'accuracy:  92.67%; precision:  73.80%; recall:  84.60%; FB1:  78.83', '        Condition: precision:  73.80%; recall:  84.60%; FB1:  78.83  439']\n",
      "Epoch 3/5\n",
      "----------\n",
      "['processed 4080 tokens with 581 phrases; found: 622 phrases; correct: 480.', 'accuracy:  92.82%; precision:  77.17%; recall:  82.62%; FB1:  79.80', '        Condition: precision:  77.17%; recall:  82.62%; FB1:  79.80  622']\n",
      "['processed 2812 tokens with 383 phrases; found: 445 phrases; correct: 320.', 'accuracy:  91.93%; precision:  71.91%; recall:  83.55%; FB1:  77.29', '        Condition: precision:  71.91%; recall:  83.55%; FB1:  77.29  445']\n",
      "Epoch 4/5\n",
      "----------\n",
      "['processed 4080 tokens with 581 phrases; found: 624 phrases; correct: 487.', 'accuracy:  92.99%; precision:  78.04%; recall:  83.82%; FB1:  80.83', '        Condition: precision:  78.04%; recall:  83.82%; FB1:  80.83  624']\n",
      "['processed 2812 tokens with 383 phrases; found: 457 phrases; correct: 316.', 'accuracy:  91.29%; precision:  69.15%; recall:  82.51%; FB1:  75.24', '        Condition: precision:  69.15%; recall:  82.51%; FB1:  75.24  457']\n",
      "Epoch 5/5\n",
      "----------\n",
      "['processed 4080 tokens with 581 phrases; found: 601 phrases; correct: 477.', 'accuracy:  93.09%; precision:  79.37%; recall:  82.10%; FB1:  80.71', '        Condition: precision:  79.37%; recall:  82.10%; FB1:  80.71  601']\n",
      "['processed 2812 tokens with 383 phrases; found: 446 phrases; correct: 320.', 'accuracy:  92.25%; precision:  71.75%; recall:  83.55%; FB1:  77.20', '        Condition: precision:  71.75%; recall:  83.55%; FB1:  77.20  446']\n",
      "Successfully split data\n",
      "Epoch 1/5\n",
      "----------\n",
      "['processed 4078 tokens with 564 phrases; found: 600 phrases; correct: 451.', 'accuracy:  92.25%; precision:  75.17%; recall:  79.96%; FB1:  77.49', '        Condition: precision:  75.17%; recall:  79.96%; FB1:  77.49  600']\n",
      "['processed 2812 tokens with 383 phrases; found: 449 phrases; correct: 320.', 'accuracy:  92.21%; precision:  71.27%; recall:  83.55%; FB1:  76.92', '        Condition: precision:  71.27%; recall:  83.55%; FB1:  76.92  449']\n",
      "Epoch 2/5\n",
      "----------\n",
      "['processed 4078 tokens with 564 phrases; found: 597 phrases; correct: 456.', 'accuracy:  92.67%; precision:  76.38%; recall:  80.85%; FB1:  78.55', '        Condition: precision:  76.38%; recall:  80.85%; FB1:  78.55  597']\n",
      "['processed 2812 tokens with 383 phrases; found: 441 phrases; correct: 307.', 'accuracy:  91.29%; precision:  69.61%; recall:  80.16%; FB1:  74.51', '        Condition: precision:  69.61%; recall:  80.16%; FB1:  74.51  441']\n",
      "Epoch 3/5\n",
      "----------\n",
      "['processed 4078 tokens with 564 phrases; found: 600 phrases; correct: 457.', 'accuracy:  92.35%; precision:  76.17%; recall:  81.03%; FB1:  78.52', '        Condition: precision:  76.17%; recall:  81.03%; FB1:  78.52  600']\n",
      "['processed 2812 tokens with 383 phrases; found: 446 phrases; correct: 310.', 'accuracy:  91.32%; precision:  69.51%; recall:  80.94%; FB1:  74.79', '        Condition: precision:  69.51%; recall:  80.94%; FB1:  74.79  446']\n",
      "Epoch 4/5\n",
      "----------\n",
      "['processed 4078 tokens with 564 phrases; found: 605 phrases; correct: 465.', 'accuracy:  92.10%; precision:  76.86%; recall:  82.45%; FB1:  79.56', '        Condition: precision:  76.86%; recall:  82.45%; FB1:  79.56  605']\n",
      "['processed 2812 tokens with 383 phrases; found: 443 phrases; correct: 311.', 'accuracy:  91.25%; precision:  70.20%; recall:  81.20%; FB1:  75.30', '        Condition: precision:  70.20%; recall:  81.20%; FB1:  75.30  443']\n",
      "Epoch 5/5\n",
      "----------\n",
      "['processed 4078 tokens with 564 phrases; found: 596 phrases; correct: 455.', 'accuracy:  92.40%; precision:  76.34%; recall:  80.67%; FB1:  78.45', '        Condition: precision:  76.34%; recall:  80.67%; FB1:  78.45  596']\n",
      "['processed 2812 tokens with 383 phrases; found: 441 phrases; correct: 316.', 'accuracy:  91.82%; precision:  71.66%; recall:  82.51%; FB1:  76.70', '        Condition: precision:  71.66%; recall:  82.51%; FB1:  76.70  441']\n"
     ]
    }
   ],
   "source": [
    "cross_val_result = pd.DataFrame()\n",
    "EPOCHS = 5\n",
    "num_tags = len(label_map)\n",
    "embedding_dim = 768\n",
    "cross_val_precision = []\n",
    "cross_val_recall = []\n",
    "cross_val_F1_score = []\n",
    "lm = AutoModel.from_pretrained('dmis-lab/biobert-v1.1', return_dict = True)\n",
    "output_dir = 'bert-pubmed.txt'\n",
    "crfmodel = CRFmodel(embedding_dim, num_tags, lm)\n",
    "crfmodel = crfmodel.to(device)\n",
    "iter_num = 5\n",
    "torch.save(crfmodel.state_dict(), 'initial_model.bin')\n",
    "test_data,test_df = get_test('test_covid_refine.txt')\n",
    "test_data_loader= DataLoader(ChiaDataset(test_data['token_id'].to_numpy(),\n",
    "                    test_data['label_id'].to_numpy(), test_data['mask'].to_numpy(),\n",
    "                    test_data['token_embed'].to_numpy() ,test_data['index'].to_numpy()), \n",
    "                    batch_size = 2, num_workers = 4)\n",
    "result_ls = []\n",
    "for i in range(iter_num):\n",
    "    cross_val_num = i\n",
    "    \n",
    "    crfmodel.load_state_dict(torch.load('initial_model.bin'))\n",
    "    \n",
    "    optimizer = torch.optim.Adam(crfmodel.parameters(), lr=5e-5)   \n",
    "    cross_val_idx = set(range(16))\n",
    "    t = random.sample(cross_val_idx, 1)[0]\n",
    "    val_data = cross_val[t]\n",
    "    cross_val_idx.remove(t)\n",
    "    train_index = cross_val_idx\n",
    "    train_data = pd.DataFrame()\n",
    "    for j in train_index:\n",
    "        train_data = train_data.append(cross_val[j])\n",
    "\n",
    "    print('Successfully split data')\n",
    "    \n",
    "    train_data_loader= DataLoader(ChiaDataset(train_data['token_id'].to_numpy(),\n",
    "                                         train_data['label_id'].to_numpy(), train_data['mask'].to_numpy(),\n",
    "                                         train_data['token_embed'].to_numpy(),train_data['index'].to_numpy()), \n",
    "                             batch_size = 30, num_workers = 4)\n",
    "    eval_data_loader= DataLoader(ChiaDataset(val_data['token_id'].to_numpy(),\n",
    "                                         val_data['label_id'].to_numpy(), val_data['mask'].to_numpy(),\n",
    "                                        val_data['token_embed'].to_numpy(),val_data['index'].to_numpy()), \n",
    "                             batch_size = 2, num_workers = 4)\n",
    "\n",
    "    total_steps = len(train_data_loader) * EPOCHS\n",
    "\n",
    "    scheduler = get_linear_schedule_with_warmup(\n",
    "      optimizer,\n",
    "      num_warmup_steps=5,\n",
    "      num_training_steps=total_steps\n",
    ")\n",
    "\n",
    "    train_epoch(crfmodel, train_data_loader,eval_data_loader,test_data_loader,optimizer, device, All_data,test_df)\n",
    "\n",
    "    crfmodel.load_state_dict(torch.load('crfmodel.bin'))\n",
    "    \n",
    "    prediction(crfmodel, test_data_loader, 'covid_result.txt', cross_val_num,test_df)  \n",
    "    \n",
    "    result = !perl conlleval.pl < 'covid_result.txt'\n",
    "    \n",
    "    #precision = result[1].split(';')[1].split(':')[1].strip()\n",
    "    #recall = result[1].split(';')[2].split(':')[1].strip()\n",
    "    #F1_score = result[1].split(';')[3].split(':')[1].strip()\n",
    "    \n",
    "    #cross_val_F1_score.append(F1_score)\n",
    "    #cross_val_precision.append(precision)\n",
    "    #cross_val_recall.append(recall)\n",
    "    #print('F1_score_{}: {}'.format(cross_val_num,F1_score))\n",
    "    result_ls.append(result)\n",
    "\n",
    "#cross_val_result['Precision'] = cross_val_precision\n",
    "#cross_val_result['Recall'] = cross_val_recall\n",
    "#cross_val_result['F1_score'] = cross_val_F1_score"
   ]
  },
  {
   "cell_type": "code",
   "execution_count": 23,
   "metadata": {},
   "outputs": [
    {
     "ename": "FileNotFoundError",
     "evalue": "[Errno 2] No such file or directory: 'test_covid_side.txt'",
     "output_type": "error",
     "traceback": [
      "\u001b[0;31m---------------------------------------------------------------------------\u001b[0m",
      "\u001b[0;31mFileNotFoundError\u001b[0m                         Traceback (most recent call last)",
      "\u001b[0;32m<ipython-input-23-b80946160bda>\u001b[0m in \u001b[0;36m<module>\u001b[0;34m\u001b[0m\n\u001b[0;32m----> 1\u001b[0;31m \u001b[0mtest_data_convert\u001b[0m\u001b[0;34m,\u001b[0m\u001b[0mdf\u001b[0m \u001b[0;34m=\u001b[0m \u001b[0mget_test\u001b[0m\u001b[0;34m(\u001b[0m\u001b[0;34m'test_covid_side.txt'\u001b[0m\u001b[0;34m)\u001b[0m\u001b[0;34m\u001b[0m\u001b[0;34m\u001b[0m\u001b[0m\n\u001b[0m\u001b[1;32m      2\u001b[0m \u001b[0;34m\u001b[0m\u001b[0m\n\u001b[1;32m      3\u001b[0m test_data_loader= DataLoader(ChiaDataset(test_data_convert['token_id'].to_numpy(),\n\u001b[1;32m      4\u001b[0m                                          \u001b[0mtest_data_convert\u001b[0m\u001b[0;34m[\u001b[0m\u001b[0;34m'label_id'\u001b[0m\u001b[0;34m]\u001b[0m\u001b[0;34m.\u001b[0m\u001b[0mto_numpy\u001b[0m\u001b[0;34m(\u001b[0m\u001b[0;34m)\u001b[0m\u001b[0;34m,\u001b[0m \u001b[0mtest_data_convert\u001b[0m\u001b[0;34m[\u001b[0m\u001b[0;34m'mask'\u001b[0m\u001b[0;34m]\u001b[0m\u001b[0;34m.\u001b[0m\u001b[0mto_numpy\u001b[0m\u001b[0;34m(\u001b[0m\u001b[0;34m)\u001b[0m\u001b[0;34m,\u001b[0m\u001b[0;34m\u001b[0m\u001b[0;34m\u001b[0m\u001b[0m\n\u001b[1;32m      5\u001b[0m                                          test_data_convert['token_embed'].to_numpy() ,test_data_convert['index'].to_numpy()), \n",
      "\u001b[0;32m<ipython-input-21-86bdc2aa7af5>\u001b[0m in \u001b[0;36mget_test\u001b[0;34m(file_path)\u001b[0m\n\u001b[1;32m      1\u001b[0m \u001b[0;32mdef\u001b[0m \u001b[0mget_test\u001b[0m\u001b[0;34m(\u001b[0m\u001b[0mfile_path\u001b[0m\u001b[0;34m)\u001b[0m\u001b[0;34m:\u001b[0m\u001b[0;34m\u001b[0m\u001b[0;34m\u001b[0m\u001b[0m\n\u001b[0;32m----> 2\u001b[0;31m     \u001b[0mraw_token\u001b[0m\u001b[0;34m,\u001b[0m \u001b[0mraw_label\u001b[0m\u001b[0;34m,\u001b[0m \u001b[0mlabel_map\u001b[0m\u001b[0;34m,\u001b[0m \u001b[0mlabel_map_inver\u001b[0m \u001b[0;34m=\u001b[0m \u001b[0mread_data\u001b[0m\u001b[0;34m(\u001b[0m\u001b[0mfile_path\u001b[0m\u001b[0;34m)\u001b[0m\u001b[0;34m\u001b[0m\u001b[0;34m\u001b[0m\u001b[0m\n\u001b[0m\u001b[1;32m      3\u001b[0m \u001b[0;34m\u001b[0m\u001b[0m\n\u001b[1;32m      4\u001b[0m     \u001b[0msentence_label_ls\u001b[0m\u001b[0;34m,\u001b[0m \u001b[0mlabel_type\u001b[0m \u001b[0;34m=\u001b[0m \u001b[0mget_sent_label\u001b[0m\u001b[0;34m(\u001b[0m\u001b[0mraw_label\u001b[0m\u001b[0;34m)\u001b[0m\u001b[0;34m\u001b[0m\u001b[0;34m\u001b[0m\u001b[0m\n\u001b[1;32m      5\u001b[0m \u001b[0;34m\u001b[0m\u001b[0m\n",
      "\u001b[0;32m<ipython-input-2-f51944be2bb6>\u001b[0m in \u001b[0;36mread_data\u001b[0;34m(f_path)\u001b[0m\n\u001b[1;32m      2\u001b[0m \u001b[0;32mdef\u001b[0m \u001b[0mread_data\u001b[0m\u001b[0;34m(\u001b[0m\u001b[0mf_path\u001b[0m\u001b[0;34m)\u001b[0m\u001b[0;34m:\u001b[0m\u001b[0;34m\u001b[0m\u001b[0;34m\u001b[0m\u001b[0m\n\u001b[1;32m      3\u001b[0m     \u001b[0mtokenizer_data_preprocessing\u001b[0m \u001b[0;34m=\u001b[0m \u001b[0mAutoTokenizer\u001b[0m\u001b[0;34m.\u001b[0m\u001b[0mfrom_pretrained\u001b[0m\u001b[0;34m(\u001b[0m\u001b[0;34m'bert-base-uncased'\u001b[0m\u001b[0;34m)\u001b[0m\u001b[0;34m\u001b[0m\u001b[0;34m\u001b[0m\u001b[0m\n\u001b[0;32m----> 4\u001b[0;31m     \u001b[0mraw_data\u001b[0m \u001b[0;34m=\u001b[0m \u001b[0mopen\u001b[0m\u001b[0;34m(\u001b[0m\u001b[0mf_path\u001b[0m\u001b[0;34m)\u001b[0m\u001b[0;34m.\u001b[0m\u001b[0mread\u001b[0m\u001b[0;34m(\u001b[0m\u001b[0;34m)\u001b[0m\u001b[0;34m\u001b[0m\u001b[0;34m\u001b[0m\u001b[0m\n\u001b[0m\u001b[1;32m      5\u001b[0m     \u001b[0mtoken_instance\u001b[0m \u001b[0;34m=\u001b[0m \u001b[0;34m[\u001b[0m\u001b[0;34m]\u001b[0m\u001b[0;34m\u001b[0m\u001b[0;34m\u001b[0m\u001b[0m\n\u001b[1;32m      6\u001b[0m     \u001b[0mlabel_instance\u001b[0m \u001b[0;34m=\u001b[0m \u001b[0;34m[\u001b[0m\u001b[0;34m]\u001b[0m\u001b[0;34m\u001b[0m\u001b[0;34m\u001b[0m\u001b[0m\n",
      "\u001b[0;31mFileNotFoundError\u001b[0m: [Errno 2] No such file or directory: 'test_covid_side.txt'"
     ]
    }
   ],
   "source": [
    "test_data_convert,df = get_test('test_covid_side.txt')\n",
    "\n",
    "test_data_loader= DataLoader(ChiaDataset(test_data_convert['token_id'].to_numpy(),\n",
    "                                         test_data_convert['label_id'].to_numpy(), test_data_convert['mask'].to_numpy(),\n",
    "                                         test_data_convert['token_embed'].to_numpy() ,test_data_convert['index'].to_numpy()), \n",
    "                             batch_size = 2, num_workers = 4)\n",
    "lm = AutoModel.from_pretrained('monologg/biobert_v1.1_pubmed', return_dict = True)\n",
    "crfmodel = CRFmodel(768, 5, lm)\n",
    "crfmodel.load_state_dict(torch.load('crfmodel.bin'))\n",
    "crfmodel = crfmodel.to(device)\n",
    "prediction(crfmodel, test_data_loader, \"covid_result.txt\", cross_val_num,test_df)  \n",
    "result = !perl conlleval.pl < 'covid_result.txt'\n",
    "result"
   ]
  },
  {
   "cell_type": "code",
   "execution_count": null,
   "metadata": {},
   "outputs": [],
   "source": [
    "cross_val_precision = []\n",
    "cross_val_recall = []\n",
    "cross_val_F1_score = []\n",
    "for result in result_ls:\n",
    "    precision = result[1].split(';')[1].split(':')[1].strip()\n",
    "    recall = result[1].split(';')[2].split(':')[1].strip()\n",
    "    F1_score = result[1].split(';')[3].split(':')[1].strip()\n",
    "    \n",
    "    cross_val_F1_score.append(F1_score)\n",
    "    cross_val_precision.append(precision)\n",
    "    cross_val_recall.append(recall)\n",
    "cross_val_result['Precision'] = cross_val_precision\n",
    "cross_val_result['Recall'] = cross_val_recall\n",
    "cross_val_result['F1_score'] = cross_val_F1_score"
   ]
  },
  {
   "cell_type": "code",
   "execution_count": null,
   "metadata": {},
   "outputs": [],
   "source": [
    "cross_val_result.to_csv('cross_val_result.csv',index=False)"
   ]
  },
  {
   "cell_type": "code",
   "execution_count": null,
   "metadata": {},
   "outputs": [],
   "source": []
  },
  {
   "cell_type": "code",
   "execution_count": null,
   "metadata": {},
   "outputs": [],
   "source": []
  },
  {
   "cell_type": "code",
   "execution_count": null,
   "metadata": {},
   "outputs": [],
   "source": []
  },
  {
   "cell_type": "code",
   "execution_count": null,
   "metadata": {},
   "outputs": [],
   "source": []
  },
  {
   "cell_type": "code",
   "execution_count": null,
   "metadata": {},
   "outputs": [],
   "source": []
  },
  {
   "cell_type": "code",
   "execution_count": null,
   "metadata": {},
   "outputs": [],
   "source": []
  },
  {
   "cell_type": "code",
   "execution_count": null,
   "metadata": {},
   "outputs": [],
   "source": []
  },
  {
   "cell_type": "code",
   "execution_count": null,
   "metadata": {},
   "outputs": [],
   "source": []
  },
  {
   "cell_type": "code",
   "execution_count": null,
   "metadata": {},
   "outputs": [],
   "source": []
  },
  {
   "cell_type": "code",
   "execution_count": null,
   "metadata": {},
   "outputs": [],
   "source": []
  },
  {
   "cell_type": "code",
   "execution_count": null,
   "metadata": {},
   "outputs": [],
   "source": []
  },
  {
   "cell_type": "code",
   "execution_count": null,
   "metadata": {},
   "outputs": [],
   "source": []
  }
 ],
 "metadata": {
  "kernel_info": {
   "name": "python3-azureml"
  },
  "kernelspec": {
   "display_name": "Python 3",
   "language": "python",
   "name": "python3"
  },
  "language_info": {
   "codemirror_mode": {
    "name": "ipython",
    "version": 3
   },
   "file_extension": ".py",
   "mimetype": "text/x-python",
   "name": "python",
   "nbconvert_exporter": "python",
   "pygments_lexer": "ipython3",
   "version": "3.8.5"
  },
  "nteract": {
   "version": "nteract-front-end@1.0.0"
  }
 },
 "nbformat": 4,
 "nbformat_minor": 4
}
